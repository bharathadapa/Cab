{
 "cells": [
  {
   "cell_type": "markdown",
   "metadata": {
    "id": "LwnHQIWCszm3"
   },
   "source": [
    "### Cab-Driver Agent"
   ]
  },
  {
   "cell_type": "code",
   "execution_count": 1,
   "metadata": {
    "executionInfo": {
     "elapsed": 902,
     "status": "ok",
     "timestamp": 1620483526172,
     "user": {
      "displayName": "Bharath Adapa",
      "photoUrl": "",
      "userId": "12390224109168197240"
     },
     "user_tz": -330
    },
    "id": "M1DY0661sznF"
   },
   "outputs": [],
   "source": [
    "# Importing libraries\n",
    "import numpy as np\n",
    "import random\n",
    "import math\n",
    "from collections import deque\n",
    "import collections\n",
    "import pickle\n",
    "import math\n",
    "# for building DQN model\n",
    "from keras import layers\n",
    "from keras import Sequential\n",
    "from keras.layers import Dense, Activation, Flatten\n",
    "from keras.layers.convolutional import Conv2D\n",
    "from keras.optimizers import Adam\n",
    "from keras.layers import LeakyReLU\n",
    "\n",
    "# for plotting graphs\n",
    "import matplotlib.pyplot as plt\n",
    "import tqdm\n",
    "import time\n",
    "\n",
    "import warnings\n",
    "warnings.filterwarnings(\"ignore\")\n"
   ]
  },
  {
   "cell_type": "code",
   "execution_count": 2,
   "metadata": {
    "colab": {
     "base_uri": "https://localhost:8080/"
    },
    "executionInfo": {
     "elapsed": 45478,
     "status": "ok",
     "timestamp": 1620462105880,
     "user": {
      "displayName": "Bharath Adapa",
      "photoUrl": "",
      "userId": "12390224109168197240"
     },
     "user_tz": -330
    },
    "id": "dnVZq3qwtNZX",
    "outputId": "aa02074b-4254-4f34-cbda-3afd232ca365"
   },
   "outputs": [],
   "source": [
    "#from google.colab import drive\n",
    "#drive.mount('/gdrive',force_remount=True)"
   ]
  },
  {
   "cell_type": "code",
   "execution_count": 3,
   "metadata": {
    "executionInfo": {
     "elapsed": 2965,
     "status": "ok",
     "timestamp": 1620462108861,
     "user": {
      "displayName": "Bharath Adapa",
      "photoUrl": "",
      "userId": "12390224109168197240"
     },
     "user_tz": -330
    },
    "id": "1-prp5VUtff_"
   },
   "outputs": [],
   "source": [
    "#Import the environment\n",
    "import os\n",
    "#path=\"/gdrive/MyDrive/RL/RL Project(Cab-Driver)-Code Structure\"\n",
    "path=os.getcwd()"
   ]
  },
  {
   "cell_type": "code",
   "execution_count": 4,
   "metadata": {},
   "outputs": [
    {
     "data": {
      "text/plain": [
       "4"
      ]
     },
     "execution_count": 4,
     "metadata": {},
     "output_type": "execute_result"
    }
   ],
   "source": [
    "os.cpu_count()"
   ]
  },
  {
   "cell_type": "code",
   "execution_count": 4,
   "metadata": {},
   "outputs": [
    {
     "data": {
      "text/plain": [
       "'/mnt/disks/user/project'"
      ]
     },
     "execution_count": 4,
     "metadata": {},
     "output_type": "execute_result"
    }
   ],
   "source": [
    "path"
   ]
  },
  {
   "cell_type": "code",
   "execution_count": 5,
   "metadata": {
    "executionInfo": {
     "elapsed": 4325,
     "status": "ok",
     "timestamp": 1620462110239,
     "user": {
      "displayName": "Bharath Adapa",
      "photoUrl": "",
      "userId": "12390224109168197240"
     },
     "user_tz": -330
    },
    "id": "0UznJumEY9uF"
   },
   "outputs": [],
   "source": [
    "#MODULE_PATH = \"/gdrive/MyDrive/RL/RL Project(Cab-Driver)-Code Structure/Env.py\"\n",
    "MODULE_PATH =path+\"//Env.py\"\n",
    "MODULE_NAME = \"Env\"\n",
    "import importlib\n",
    "import sys\n",
    "spec = importlib.util.spec_from_file_location(MODULE_NAME, MODULE_PATH)\n",
    "Env = importlib.util.module_from_spec(spec)\n",
    "sys.modules[spec.name] = Env\n",
    "spec.loader.exec_module(Env)\n",
    "from Env import CabDriver"
   ]
  },
  {
   "cell_type": "code",
   "execution_count": 6,
   "metadata": {
    "executionInfo": {
     "elapsed": 2275,
     "status": "ok",
     "timestamp": 1620462111903,
     "user": {
      "displayName": "Bharath Adapa",
      "photoUrl": "",
      "userId": "12390224109168197240"
     },
     "user_tz": -330
    },
    "id": "2ubezJbuKXrT"
   },
   "outputs": [],
   "source": [
    "env=CabDriver()"
   ]
  },
  {
   "cell_type": "code",
   "execution_count": 7,
   "metadata": {},
   "outputs": [],
   "source": [
    "# Loading the time matrix provided\n",
    "Time_matrix = np.load(path+\"/TM.npy\")"
   ]
  },
  {
   "cell_type": "code",
   "execution_count": 8,
   "metadata": {
    "colab": {
     "base_uri": "https://localhost:8080/"
    },
    "executionInfo": {
     "elapsed": 36707,
     "status": "ok",
     "timestamp": 1620448047523,
     "user": {
      "displayName": "Bharath Adapa",
      "photoUrl": "",
      "userId": "12390224109168197240"
     },
     "user_tz": -330
    },
    "id": "PgIe95HwbdJM",
    "outputId": "6f49badf-5f02-4ab4-d04d-e811370ae643"
   },
   "outputs": [
    {
     "data": {
      "text/plain": [
       "(5, 5, 24, 7)"
      ]
     },
     "execution_count": 8,
     "metadata": {},
     "output_type": "execute_result"
    }
   ],
   "source": [
    "Time_matrix.shape"
   ]
  },
  {
   "cell_type": "code",
   "execution_count": 9,
   "metadata": {},
   "outputs": [
    {
     "data": {
      "text/plain": [
       "3.0"
      ]
     },
     "execution_count": 9,
     "metadata": {},
     "output_type": "execute_result"
    }
   ],
   "source": [
    "Time_matrix[0][1][2][1]"
   ]
  },
  {
   "cell_type": "code",
   "execution_count": 10,
   "metadata": {},
   "outputs": [
    {
     "data": {
      "text/plain": [
       "[(0, 0),\n",
       " (0, 1),\n",
       " (0, 2),\n",
       " (0, 3),\n",
       " (0, 4),\n",
       " (1, 0),\n",
       " (1, 2),\n",
       " (1, 3),\n",
       " (1, 4),\n",
       " (2, 0),\n",
       " (2, 1),\n",
       " (2, 3),\n",
       " (2, 4),\n",
       " (3, 0),\n",
       " (3, 1),\n",
       " (3, 2),\n",
       " (3, 4),\n",
       " (4, 0),\n",
       " (4, 1),\n",
       " (4, 2),\n",
       " (4, 3)]"
      ]
     },
     "execution_count": 10,
     "metadata": {},
     "output_type": "execute_result"
    }
   ],
   "source": [
    "env.action_space"
   ]
  },
  {
   "cell_type": "code",
   "execution_count": 11,
   "metadata": {},
   "outputs": [
    {
     "data": {
      "text/plain": [
       "-1"
      ]
     },
     "execution_count": 11,
     "metadata": {},
     "output_type": "execute_result"
    }
   ],
   "source": [
    "env.reward_func([0,1,2],20, Time_matrix)"
   ]
  },
  {
   "cell_type": "markdown",
   "metadata": {
    "id": "swcmoZvasznH"
   },
   "source": [
    "#### Tracking the state-action pairs for checking convergence\n"
   ]
  },
  {
   "cell_type": "code",
   "execution_count": 12,
   "metadata": {
    "executionInfo": {
     "elapsed": 819,
     "status": "ok",
     "timestamp": 1620462115245,
     "user": {
      "displayName": "Bharath Adapa",
      "photoUrl": "",
      "userId": "12390224109168197240"
     },
     "user_tz": -330
    },
    "id": "gdo1hsyrsznH"
   },
   "outputs": [],
   "source": [
    "track_states = {'0-0-0':{}}"
   ]
  },
  {
   "cell_type": "code",
   "execution_count": 13,
   "metadata": {
    "executionInfo": {
     "elapsed": 710,
     "status": "ok",
     "timestamp": 1620462116331,
     "user": {
      "displayName": "Bharath Adapa",
      "photoUrl": "",
      "userId": "12390224109168197240"
     },
     "user_tz": -330
    },
    "id": "uuYAr-ygY9uH"
   },
   "outputs": [],
   "source": [
    "def str_key(action):\n",
    "    k=''\n",
    "    for i in list(action):\n",
    "        k=k+'-'+str(i)\n",
    "    return k[1:]"
   ]
  },
  {
   "cell_type": "code",
   "execution_count": 14,
   "metadata": {
    "executionInfo": {
     "elapsed": 1331,
     "status": "ok",
     "timestamp": 1620462119348,
     "user": {
      "displayName": "Bharath Adapa",
      "photoUrl": "",
      "userId": "12390224109168197240"
     },
     "user_tz": -330
    },
    "id": "uOts1vZ6Y9uH"
   },
   "outputs": [],
   "source": [
    "for i in env.action_space[1:4]:\n",
    "    track_states['0-0-0'][str_key(i)]=[]"
   ]
  },
  {
   "cell_type": "code",
   "execution_count": 15,
   "metadata": {
    "colab": {
     "base_uri": "https://localhost:8080/"
    },
    "executionInfo": {
     "elapsed": 693,
     "status": "ok",
     "timestamp": 1620462119745,
     "user": {
      "displayName": "Bharath Adapa",
      "photoUrl": "",
      "userId": "12390224109168197240"
     },
     "user_tz": -330
    },
    "id": "SzUr53nIY9uI",
    "outputId": "bb166871-ab60-45ac-9f2b-ee340aff89ba"
   },
   "outputs": [
    {
     "data": {
      "text/plain": [
       "{'0-0-0': {'0-1': [], '0-2': [], '0-3': []}}"
      ]
     },
     "execution_count": 15,
     "metadata": {},
     "output_type": "execute_result"
    }
   ],
   "source": [
    "track_states"
   ]
  },
  {
   "cell_type": "code",
   "execution_count": 16,
   "metadata": {
    "executionInfo": {
     "elapsed": 586,
     "status": "ok",
     "timestamp": 1620462121248,
     "user": {
      "displayName": "Bharath Adapa",
      "photoUrl": "",
      "userId": "12390224109168197240"
     },
     "user_tz": -330
    },
    "id": "oSe1YYDSsznI"
   },
   "outputs": [],
   "source": [
    "#Defining a function to save the Q-dictionary as a pickle file\n",
    "def save_obj(obj, name ):\n",
    "    with open(path+'//'+name + '.pkl', 'wb') as f:\n",
    "        pickle.dump(obj, f, pickle.HIGHEST_PROTOCOL)"
   ]
  },
  {
   "cell_type": "markdown",
   "metadata": {
    "id": "FLqXegE6sznI"
   },
   "source": [
    "### Agent Class\n",
    "\n",
    "If you are using this framework, you need to fill the following to complete the following code block:\n",
    "1. State and Action Size\n",
    "2. Hyperparameters\n",
    "3. Create a neural-network model in function 'build_model()'\n",
    "4. Define epsilon-greedy strategy in function 'get_action()'\n",
    "5. Complete the function 'append_sample()'. This function appends the recent experience tuple <state, action, reward, new-state> to the memory\n",
    "6. Complete the 'train_model()' function with following logic:\n",
    "   - If the memory size is greater than mini-batch size, you randomly sample experiences from memory as per the mini-batch size and do the following:\n",
    "      - Initialise your input and output batch for training the model\n",
    "      - Calculate the target Q value for each sample: reward + gamma*max(Q(s'a,))\n",
    "      - Get Q(s', a) values from the last trained model\n",
    "      - Update the input batch as your encoded state-action and output batch as your Q-values\n",
    "      - Then fit your DQN model using the updated input and output batch."
   ]
  },
  {
   "cell_type": "code",
   "execution_count": 28,
   "metadata": {},
   "outputs": [
    {
     "data": {
      "text/plain": [
       "[<matplotlib.lines.Line2D at 0x7f005017d3a0>]"
      ]
     },
     "execution_count": 28,
     "metadata": {},
     "output_type": "execute_result"
    },
    {
     "data": {
      "image/png": "[encoded data removed]",
      "text/plain": [
       "<Figure size 432x288 with 1 Axes>"
      ]
     },
     "metadata": {
      "needs_background": "light"
     },
     "output_type": "display_data"
    }
   ],
   "source": [
    "x=[i for i in range(20000)]\n",
    "y=[0 for i in range(20000)]\n",
    "y[0]=1\n",
    "for i in range(1,20000):\n",
    "    if y[i-1]>0.0001:\n",
    "        y[i]=y[i-1]*0.9995\n",
    "plt.plot(y)"
   ]
  },
  {
   "cell_type": "code",
   "execution_count": 18,
   "metadata": {},
   "outputs": [
    {
     "data": {
      "text/plain": [
       "0"
      ]
     },
     "execution_count": 18,
     "metadata": {},
     "output_type": "execute_result"
    }
   ],
   "source": [
    "y[-1]"
   ]
  },
  {
   "cell_type": "code",
   "execution_count": 34,
   "metadata": {
    "executionInfo": {
     "elapsed": 922,
     "status": "ok",
     "timestamp": 1620483496830,
     "user": {
      "displayName": "Bharath Adapa",
      "photoUrl": "",
      "userId": "12390224109168197240"
     },
     "user_tz": -330
    },
    "id": "Z-HlMBS8sznJ"
   },
   "outputs": [],
   "source": [
    "# Defining hyperparameters\n",
    "m = 5 # number of cities, ranges from 1 ..... m\n",
    "t = 24 # number of hours, ranges from 0 .... t-1\n",
    "d = 7  # number of days, ranges from 0 ... d-1\n",
    "C = 5 # Per hour fuel and other costs\n",
    "R = 9 # per hour revenue from a passenger\n",
    "env=CabDriver()\n",
    "class DQNAgent:\n",
    "    def __init__(self):\n",
    "        # Define size of state and action\n",
    "        \n",
    "        self.state_size = m+t+d\n",
    "        self.action_size = len(env.action_space)\n",
    "\n",
    "        # Write here: Specify you hyper parameters for the DQN\n",
    "        self.discount_factor = 0.95\n",
    "        self.learning_rate = 0.01      \n",
    "        self.epsilon = 1\n",
    "        self.epsilon_decay = 0.9995\n",
    "        self.epsilon_min = 0.0001\n",
    "        self.batch_size = 32        \n",
    "        # create replay memory using deque\n",
    "        self.memory = deque(maxlen=2000)\n",
    "\n",
    "        # create main model and target model\n",
    "        self.model = self.build_model()\n",
    "        \n",
    "\n",
    "    # approximate Q function using Neural Network\n",
    "    def build_model(self):\n",
    "        model = Sequential()\n",
    "        self.dim=int(math.sqrt(self.state_size))\n",
    "        model.add(Conv2D(filters=16, kernel_size=4, activation='relu', input_shape=(self.dim,self.dim,1),data_format=\"channels_last\"))\n",
    "        model.add(Flatten())\n",
    "\n",
    "        #model.add(Dense(self.batch_size, input_dim=self.state_size, activation='relu',kernel_initializer='he_uniform'))\n",
    "        model.add(Dense(self.batch_size, activation='relu',kernel_initializer='he_uniform'))\n",
    "        #model.add(Dense(self.batch_size, input_dim=self.state_size))\n",
    "        #model.add(LeakyReLU(alpha=0.1))\n",
    "        #model.add(Dense(self.batch_size*2))\n",
    "        #model.add(LeakyReLU(alpha=0.1))\n",
    "        model.add(Dense(self.action_size, activation='relu',kernel_initializer='he_uniform'))\n",
    "        # Write your code here: Add layers to your neural nets       \n",
    "        model.compile(loss='mse',optimizer=Adam(lr=self.learning_rate))\n",
    "        \n",
    "        return model\n",
    "\n",
    "\n",
    "\n",
    "    def get_action(self, state):\n",
    "        #se=env.state_encod_arch2(state)\n",
    "        #se=np.array(se).reshape(1,self.state_size)\n",
    "        se=env.state_encod_arch2(state)\n",
    "        se=np.array(se).reshape(1,self.dim,self.dim,1)\n",
    "        possible_actions_index,actions=env.requests(state)\n",
    "        # Write your code here:\n",
    "        # get action from model using epsilon-greedy policy\n",
    "        # Decay in ε after we generate each sample from the environment       \n",
    "        if np.random.rand() <= self.epsilon:\n",
    "            return random.choice(possible_actions_index)\n",
    "        # if generated random number is greater than ε, choose the action which has max Q-value\n",
    "        else:\n",
    "            q_value = self.model.predict(se)\n",
    "            q_vals_possible = [q_value[0][i] for i in possible_actions_index]\n",
    "            return possible_actions_index[np.argmax(q_vals_possible)]\n",
    "    \n",
    "\n",
    "    def append_sample(self, state, action, reward, next_state,done):\n",
    "        # Write your code here:\n",
    "        # save sample <s,a,r,s'> to the replay memory\n",
    "        self.memory.append((state, action, reward, next_state, done))\n",
    "        # Decay in ε after we generate each sample from the environment\n",
    "        if self.epsilon > self.epsilon_min:\n",
    "            self.epsilon *= self.epsilon_decay\n",
    "\n",
    "    # pick samples randomly from replay memory (with batch_size) and train the network\n",
    "    def train_model(self):\n",
    "        if len(self.memory) > self.batch_size:\n",
    "            # Sample batch from the memory\n",
    "            mini_batch = random.sample(self.memory, self.batch_size)\n",
    "            \n",
    "            #update_output = np.zeros((self.batch_size, self.state_size)) # write here\n",
    "            #update_input = np.zeros((self.batch_size, self.state_size)) # write here\n",
    "            update_output = np.zeros((self.batch_size, self.dim,self.dim,1)) # write here\n",
    "            update_input = np.zeros((self.batch_size, self.dim,self.dim,1))\n",
    "            actions, rewards,dones = [], [],[]\n",
    "            \n",
    "            for i in range(self.batch_size):\n",
    "                state, action, reward, next_state,done = mini_batch[i]\n",
    "                \n",
    "                #update_output[i] = env.state_encod_arch2(state)\n",
    "                \n",
    "                update_output[i]=np.array(env.state_encod_arch2(state)).reshape(self.dim,self.dim,1)\n",
    "                \n",
    "                actions.append(action)\n",
    "                rewards.append(reward)\n",
    "                dones.append(done)\n",
    "                \n",
    "                #update_output[i] = env.state_encod_arch2(next_state)\n",
    "                \n",
    "                update_output[i]=np.array(env.state_encod_arch2(next_state)).reshape(self.dim,self.dim,1)\n",
    "            \n",
    "            # 1. Predict the target from earlier model\n",
    "            target = self.model.predict(update_input)\n",
    "               \n",
    "            # 2. Get the target for the Q-network\n",
    "            target_qval = self.model.predict(update_output)\n",
    "\n",
    "            #3. Update your 'update_output' and 'update_input' batch. Be careful to use the encoded state-action pair\n",
    "            for i in range(self.batch_size):\n",
    "                if dones[i]:\n",
    "                    target[i][actions[i]] = rewards[i]\n",
    "                else:# non-terminal state\n",
    "                    target[i][actions[i]] = rewards[i] + self.discount_factor * np.max(target_qval[i])\n",
    "            # 4. Fit your model and track the loss values\n",
    "            self.model.fit(update_input, target, batch_size=self.batch_size, epochs=1, verbose=0)\n",
    "\n",
    "\n",
    "\n",
    "    def save(self, name):\n",
    "        self.model.save_weights(name)"
   ]
  },
  {
   "cell_type": "code",
   "execution_count": 35,
   "metadata": {},
   "outputs": [],
   "source": [
    "total_rewards=[]\n",
    "dqn=DQNAgent()"
   ]
  },
  {
   "cell_type": "code",
   "execution_count": null,
   "metadata": {},
   "outputs": [],
   "source": [
    "with open(path+'//'+'States.pkl', 'rb') as f:\n",
    "        track_states=pickle.load(f)\n",
    "with open(path+'//'+'total_rewards.pkl', 'rb') as f:\n",
    "        total_rewards=pickle.load(f)"
   ]
  },
  {
   "cell_type": "code",
   "execution_count": 36,
   "metadata": {},
   "outputs": [],
   "source": [
    "Episodes = 20000\n",
    "ran_int=2000\n",
    "from_ep=list(range(1,Episodes,ran_int))\n",
    "to_ep=list(range(ran_int,Episodes+ran_int,ran_int))"
   ]
  },
  {
   "cell_type": "code",
   "execution_count": 37,
   "metadata": {},
   "outputs": [
    {
     "data": {
      "text/plain": [
       "([1, 2001, 4001, 6001, 8001, 10001, 12001, 14001, 16001, 18001],\n",
       " [2000, 4000, 6000, 8000, 10000, 12000, 14000, 16000, 18000, 20000])"
      ]
     },
     "execution_count": 37,
     "metadata": {},
     "output_type": "execute_result"
    }
   ],
   "source": [
    "from_ep,to_ep"
   ]
  },
  {
   "cell_type": "code",
   "execution_count": null,
   "metadata": {
    "colab": {
     "base_uri": "https://localhost:8080/"
    },
    "id": "oKhXmFuhadOi",
    "outputId": "7a945b5a-ab10-4987-a1dd-f488e4a69442",
    "scrolled": true
   },
   "outputs": [
    {
     "name": "stderr",
     "output_type": "stream",
     "text": [
      " 26%|██▋       | 525/2000 [1:10:05<3:08:49,  7.68s/it]"
     ]
    }
   ],
   "source": [
    "for episode in tqdm.tqdm(range(from_ep[0],to_ep[0]+1)):\n",
    "\n",
    "    # Write code here\n",
    "    # Call the environment\n",
    "    # Call all the initialised variables of the environment\n",
    "    env.reset()\n",
    "    action_space = env.action_space\n",
    "    state_space = env.state_space\n",
    "    state_init = env.state_init\n",
    "    #print(dqn.epsilon)\n",
    "    state = state_init\n",
    "    #print(state)\n",
    "    acc_reward=0\n",
    "    done=False\n",
    "    action = dqn.get_action(state)\n",
    "    reward = env.reward_func(state, action, Time_matrix)\n",
    "    next_state,t1,t2 = env.next_state_func(state, action, Time_matrix)\n",
    "    tot_time=t1+t2\n",
    "    #while tot_time<720:\n",
    "    t_ct=0\n",
    "    while not done:\n",
    "        #ch_reward = env.reward_func(state, action, Time_matrix)\n",
    "        next_ch_state,t12,t22 = env.next_state_func(next_state, dqn.get_action(next_state), Time_matrix)\n",
    "        ch_time_trip=t12+t22\n",
    "        if tot_time+ch_time_trip>=720:\n",
    "            done=True\n",
    "        #print(done)\n",
    "        \n",
    "        dqn.append_sample(state, action, reward, next_state, done)\n",
    "        state=next_state\n",
    "       \n",
    "        action = dqn.get_action(state)\n",
    "        reward = env.reward_func(state, action, Time_matrix)\n",
    "        next_state,t1,t2 = env.next_state_func(state, action, Time_matrix)\n",
    "        time_trip=t1+t2\n",
    "        tot_time=tot_time+time_trip\n",
    "        acc_reward=acc_reward+reward\n",
    "        t_ct=t_ct+1\n",
    "        if t_ct==30:\n",
    "            dqn.train_model()\n",
    "\n",
    "\n",
    "#    str_state=str_key(state_init)\n",
    "#    if str_state in track_states.keys():\n",
    "#        track_states[str_state].append(acc_reward)\n",
    "        \n",
    "    #total_rewards.append(acc_reward)\n",
    "    \n",
    "        # Write your code here\n",
    "        # 1. Pick epsilon-greedy action from possible actions for the current state\n",
    "        # 2. Evaluate your reward and next state\n",
    "        # 3. Append the experience to the memory\n",
    "        # 4. Train the model by calling function agent.train_model\n",
    "        # 5. Keep a track of rewards, Q-values, loss\n",
    "        \n",
    "    if episode%100==0:\n",
    "        se=np.zeros((1,dqn.dim,dqn.dim,1))\n",
    "                        \n",
    "        #qvals_track=dqn.model.predict(np.array(se).reshape(1,dqn.state_size))\n",
    "        qvals_track=dqn.model.predict(se)\n",
    "        track_states['0-0-0']['0-1'].append(qvals_track[0][1])\n",
    "        track_states['0-0-0']['0-2'].append(qvals_track[0][2])\n",
    "        track_states['0-0-0']['0-3'].append(qvals_track[0][3])\n",
    "        total_rewards.append(acc_reward)\n",
    "        save_obj(track_states,'States')\n",
    "        save_obj(total_rewards,'total_rewards')\n",
    "        dqn.save(path+\"/Final_model.h5\")\n"
   ]
  },
  {
   "cell_type": "code",
   "execution_count": null,
   "metadata": {},
   "outputs": [],
   "source": [
    "dqn.model.load_weights(path+\"/Final_model.h5\")"
   ]
  },
  {
   "cell_type": "code",
   "execution_count": 26,
   "metadata": {},
   "outputs": [
    {
     "name": "stderr",
     "output_type": "stream",
     "text": [
      "100%|██████████| 787/787 [1:37:36<00:00,  7.44s/it]\n"
     ]
    }
   ],
   "source": [
    "for episode in tqdm.tqdm(range(2214,to_ep[0]+1)):\n",
    "\n",
    "    # Write code here\n",
    "    # Call the environment\n",
    "    # Call all the initialised variables of the environment\n",
    "    env.reset()\n",
    "    action_space = env.action_space\n",
    "    state_space = env.state_space\n",
    "    state_init = env.state_init\n",
    "    #print(dqn.epsilon)\n",
    "    state = state_init\n",
    "    #print(state)\n",
    "    acc_reward=0\n",
    "    done=False\n",
    "    action = dqn.get_action(state)\n",
    "    reward = env.reward_func(state, action, Time_matrix)\n",
    "    next_state,t1,t2 = env.next_state_func(state, action, Time_matrix)\n",
    "    tot_time=t1+t2\n",
    "    #while tot_time<720:\n",
    "    t_ct=0\n",
    "    while not done:\n",
    "        #ch_reward = env.reward_func(state, action, Time_matrix)\n",
    "        next_ch_state,t12,t22 = env.next_state_func(next_state, dqn.get_action(next_state), Time_matrix)\n",
    "        ch_time_trip=t12+t22\n",
    "        if tot_time+ch_time_trip>=720:\n",
    "            done=True\n",
    "        #print(done)\n",
    "        \n",
    "        dqn.append_sample(state, action, reward, next_state, done)\n",
    "        state=next_state\n",
    "       \n",
    "        action = dqn.get_action(state)\n",
    "        reward = env.reward_func(state, action, Time_matrix)\n",
    "        next_state,t1,t2 = env.next_state_func(state, action, Time_matrix)\n",
    "        time_trip=t1+t2\n",
    "        tot_time=tot_time+time_trip\n",
    "        acc_reward=acc_reward+reward\n",
    "        t_ct=t_ct+1\n",
    "        if t_ct==25:\n",
    "            dqn.train_model()\n",
    "            se=np.zeros((1,dqn.dim,dqn.dim,1))\n",
    "                        \n",
    "            #qvals_track=dqn.model.predict(np.array(se).reshape(1,dqn.state_size))\n",
    "            qvals_track=dqn.model.predict(se)\n",
    "            track_states['0-0-0']['0-1'].append(qvals_track[0][1])\n",
    "            track_states['0-0-0']['0-2'].append(qvals_track[0][2])\n",
    "            track_states['0-0-0']['0-3'].append(qvals_track[0][3])\n",
    "\n",
    "#    str_state=str_key(state_init)\n",
    "#    if str_state in track_states.keys():\n",
    "#        track_states[str_state].append(acc_reward)\n",
    "        \n",
    "    total_rewards.append(acc_reward)\n",
    "    \n",
    "        # Write your code here\n",
    "        # 1. Pick epsilon-greedy action from possible actions for the current state\n",
    "        # 2. Evaluate your reward and next state\n",
    "        # 3. Append the experience to the memory\n",
    "        # 4. Train the model by calling function agent.train_model\n",
    "        # 5. Keep a track of rewards, Q-values, loss\n",
    "        \n",
    "    if episode%100==0:\n",
    "        save_obj(track_states,'States')\n",
    "        save_obj(total_rewards,'total_rewards')\n",
    "        dqn.save(path+\"/Final_model.h5\")\n"
   ]
  },
  {
   "cell_type": "code",
   "execution_count": null,
   "metadata": {},
   "outputs": [
    {
     "name": "stderr",
     "output_type": "stream",
     "text": [
      "  6%|▌         | 172/3000 [21:34<5:47:57,  7.38s/it]"
     ]
    }
   ],
   "source": [
    "for episode in tqdm.tqdm(range(from_ep[1],to_ep[1]+1)):\n",
    "\n",
    "    # Write code here\n",
    "    # Call the environment\n",
    "    # Call all the initialised variables of the environment\n",
    "    env.reset()\n",
    "    action_space = env.action_space\n",
    "    state_space = env.state_space\n",
    "    state_init = env.state_init\n",
    "    #print(dqn.epsilon)\n",
    "    state = state_init\n",
    "    #print(state)\n",
    "    acc_reward=0\n",
    "    done=False\n",
    "    action = dqn.get_action(state)\n",
    "    reward = env.reward_func(state, action, Time_matrix)\n",
    "    next_state,t1,t2 = env.next_state_func(state, action, Time_matrix)\n",
    "    tot_time=t1+t2\n",
    "    #while tot_time<720:\n",
    "    t_ct=0\n",
    "    while not done:\n",
    "        #ch_reward = env.reward_func(state, action, Time_matrix)\n",
    "        next_ch_state,t12,t22 = env.next_state_func(next_state, dqn.get_action(next_state), Time_matrix)\n",
    "        ch_time_trip=t12+t22\n",
    "        if tot_time+ch_time_trip>=720:\n",
    "            done=True\n",
    "        #print(done)\n",
    "        \n",
    "        dqn.append_sample(state, action, reward, next_state, done)\n",
    "        state=next_state\n",
    "       \n",
    "        action = dqn.get_action(state)\n",
    "        reward = env.reward_func(state, action, Time_matrix)\n",
    "        next_state,t1,t2 = env.next_state_func(state, action, Time_matrix)\n",
    "        time_trip=t1+t2\n",
    "        tot_time=tot_time+time_trip\n",
    "        acc_reward=acc_reward+reward\n",
    "        t_ct=t_ct+1\n",
    "        if t_ct==25:\n",
    "            dqn.train_model()\n",
    "            se=np.zeros((1,dqn.dim,dqn.dim,1))\n",
    "                        \n",
    "            #qvals_track=dqn.model.predict(np.array(se).reshape(1,dqn.state_size))\n",
    "            qvals_track=dqn.model.predict(se)\n",
    "            track_states['0-0-0']['0-1'].append(qvals_track[0][1])\n",
    "            track_states['0-0-0']['0-2'].append(qvals_track[0][2])\n",
    "            track_states['0-0-0']['0-3'].append(qvals_track[0][3])\n",
    "\n",
    "#    str_state=str_key(state_init)\n",
    "#    if str_state in track_states.keys():\n",
    "#        track_states[str_state].append(acc_reward)\n",
    "        \n",
    "    total_rewards.append(acc_reward)\n",
    "    \n",
    "        # Write your code here\n",
    "        # 1. Pick epsilon-greedy action from possible actions for the current state\n",
    "        # 2. Evaluate your reward and next state\n",
    "        # 3. Append the experience to the memory\n",
    "        # 4. Train the model by calling function agent.train_model\n",
    "        # 5. Keep a track of rewards, Q-values, loss\n",
    "        \n",
    "    if episode%100==0:\n",
    "        save_obj(track_states,'States')\n",
    "        save_obj(total_rewards,'total_rewards')\n",
    "        dqn.save(path+\"/Final_model.h5\")\n"
   ]
  },
  {
   "cell_type": "code",
   "execution_count": 184,
   "metadata": {
    "id": "XNK_ExwXghMY"
   },
   "outputs": [
    {
     "data": {
      "text/plain": [
       "718"
      ]
     },
     "execution_count": 184,
     "metadata": {},
     "output_type": "execute_result"
    }
   ],
   "source": [
    "tot_time"
   ]
  },
  {
   "cell_type": "code",
   "execution_count": 185,
   "metadata": {
    "id": "VgRTfaBag2c2"
   },
   "outputs": [
    {
     "data": {
      "text/plain": [
       "([0, 10, 0], 17)"
      ]
     },
     "execution_count": 185,
     "metadata": {},
     "output_type": "execute_result"
    }
   ],
   "source": [
    "next_state,action"
   ]
  },
  {
   "cell_type": "markdown",
   "metadata": {
    "id": "kg3BQhSjsznL"
   },
   "source": [
    "### Tracking Convergence"
   ]
  },
  {
   "cell_type": "code",
   "execution_count": 22,
   "metadata": {
    "executionInfo": {
     "elapsed": 1475,
     "status": "ok",
     "timestamp": 1620462139682,
     "user": {
      "displayName": "Bharath Adapa",
      "photoUrl": "",
      "userId": "12390224109168197240"
     },
     "user_tz": -330
    },
    "id": "HYVvRLrpY9uL"
   },
   "outputs": [],
   "source": [
    "with open(path+'//'+'States.pkl', 'rb') as f:\n",
    "        track_states=pickle.load(f)\n",
    "with open(path+'//'+'total_rewards.pkl', 'rb') as f:\n",
    "        total_rewards=pickle.load(f)"
   ]
  },
  {
   "cell_type": "code",
   "execution_count": 23,
   "metadata": {
    "colab": {
     "base_uri": "https://localhost:8080/",
     "height": 282
    },
    "executionInfo": {
     "elapsed": 1229,
     "status": "ok",
     "timestamp": 1620462155957,
     "user": {
      "displayName": "Bharath Adapa",
      "photoUrl": "",
      "userId": "12390224109168197240"
     },
     "user_tz": -330
    },
    "id": "FmuCi-DEsznL",
    "outputId": "caa086bc-f5c9-47fe-af30-47a53a9d7fba"
   },
   "outputs": [
    {
     "data": {
      "text/plain": [
       "[<matplotlib.lines.Line2D at 0x7f4d72be1dc0>]"
      ]
     },
     "execution_count": 23,
     "metadata": {},
     "output_type": "execute_result"
    },
    {
     "data": {
      "image/png": "[encoded data removed]",
      "text/plain": [
       "<Figure size 432x288 with 1 Axes>"
      ]
     },
     "metadata": {
      "needs_background": "light"
     },
     "output_type": "display_data"
    }
   ],
   "source": [
    "plt.plot(total_rewards)"
   ]
  },
  {
   "cell_type": "code",
   "execution_count": 263,
   "metadata": {
    "id": "0WLjnDN1sznL"
   },
   "outputs": [
    {
     "ename": "TypeError",
     "evalue": "float() argument must be a string or a number, not 'dict'",
     "output_type": "error",
     "traceback": [
      "\u001b[1;31m---------------------------------------------------------------------------\u001b[0m",
      "\u001b[1;31mTypeError\u001b[0m                                 Traceback (most recent call last)",
      "\u001b[1;32m<ipython-input-263-86ec7af11323>\u001b[0m in \u001b[0;36m<module>\u001b[1;34m\u001b[0m\n\u001b[0;32m      1\u001b[0m \u001b[1;32mfor\u001b[0m \u001b[0mi\u001b[0m \u001b[1;32min\u001b[0m \u001b[0mtrack_states\u001b[0m\u001b[1;33m.\u001b[0m\u001b[0mkeys\u001b[0m\u001b[1;33m(\u001b[0m\u001b[1;33m)\u001b[0m\u001b[1;33m:\u001b[0m\u001b[1;33m\u001b[0m\u001b[1;33m\u001b[0m\u001b[0m\n\u001b[1;32m----> 2\u001b[1;33m     \u001b[0mplt\u001b[0m\u001b[1;33m.\u001b[0m\u001b[0mplot\u001b[0m\u001b[1;33m(\u001b[0m\u001b[0mtrack_states\u001b[0m\u001b[1;33m[\u001b[0m\u001b[0mi\u001b[0m\u001b[1;33m]\u001b[0m\u001b[1;33m)\u001b[0m\u001b[1;33m\u001b[0m\u001b[1;33m\u001b[0m\u001b[0m\n\u001b[0m",
      "\u001b[1;32mC:\\ProgramData\\Anaconda3\\lib\\site-packages\\matplotlib\\pyplot.py\u001b[0m in \u001b[0;36mplot\u001b[1;34m(scalex, scaley, data, *args, **kwargs)\u001b[0m\n\u001b[0;32m   2794\u001b[0m     return gca().plot(\n\u001b[0;32m   2795\u001b[0m         *args, scalex=scalex, scaley=scaley, **({\"data\": data} if data\n\u001b[1;32m-> 2796\u001b[1;33m         is not None else {}), **kwargs)\n\u001b[0m\u001b[0;32m   2797\u001b[0m \u001b[1;33m\u001b[0m\u001b[0m\n\u001b[0;32m   2798\u001b[0m \u001b[1;33m\u001b[0m\u001b[0m\n",
      "\u001b[1;32mC:\\ProgramData\\Anaconda3\\lib\\site-packages\\matplotlib\\axes\\_axes.py\u001b[0m in \u001b[0;36mplot\u001b[1;34m(self, scalex, scaley, data, *args, **kwargs)\u001b[0m\n\u001b[0;32m   1665\u001b[0m         \u001b[0mlines\u001b[0m \u001b[1;33m=\u001b[0m \u001b[1;33m[\u001b[0m\u001b[1;33m*\u001b[0m\u001b[0mself\u001b[0m\u001b[1;33m.\u001b[0m\u001b[0m_get_lines\u001b[0m\u001b[1;33m(\u001b[0m\u001b[1;33m*\u001b[0m\u001b[0margs\u001b[0m\u001b[1;33m,\u001b[0m \u001b[0mdata\u001b[0m\u001b[1;33m=\u001b[0m\u001b[0mdata\u001b[0m\u001b[1;33m,\u001b[0m \u001b[1;33m**\u001b[0m\u001b[0mkwargs\u001b[0m\u001b[1;33m)\u001b[0m\u001b[1;33m]\u001b[0m\u001b[1;33m\u001b[0m\u001b[1;33m\u001b[0m\u001b[0m\n\u001b[0;32m   1666\u001b[0m         \u001b[1;32mfor\u001b[0m \u001b[0mline\u001b[0m \u001b[1;32min\u001b[0m \u001b[0mlines\u001b[0m\u001b[1;33m:\u001b[0m\u001b[1;33m\u001b[0m\u001b[1;33m\u001b[0m\u001b[0m\n\u001b[1;32m-> 1667\u001b[1;33m             \u001b[0mself\u001b[0m\u001b[1;33m.\u001b[0m\u001b[0madd_line\u001b[0m\u001b[1;33m(\u001b[0m\u001b[0mline\u001b[0m\u001b[1;33m)\u001b[0m\u001b[1;33m\u001b[0m\u001b[1;33m\u001b[0m\u001b[0m\n\u001b[0m\u001b[0;32m   1668\u001b[0m         \u001b[0mself\u001b[0m\u001b[1;33m.\u001b[0m\u001b[0mautoscale_view\u001b[0m\u001b[1;33m(\u001b[0m\u001b[0mscalex\u001b[0m\u001b[1;33m=\u001b[0m\u001b[0mscalex\u001b[0m\u001b[1;33m,\u001b[0m \u001b[0mscaley\u001b[0m\u001b[1;33m=\u001b[0m\u001b[0mscaley\u001b[0m\u001b[1;33m)\u001b[0m\u001b[1;33m\u001b[0m\u001b[1;33m\u001b[0m\u001b[0m\n\u001b[0;32m   1669\u001b[0m         \u001b[1;32mreturn\u001b[0m \u001b[0mlines\u001b[0m\u001b[1;33m\u001b[0m\u001b[1;33m\u001b[0m\u001b[0m\n",
      "\u001b[1;32mC:\\ProgramData\\Anaconda3\\lib\\site-packages\\matplotlib\\axes\\_base.py\u001b[0m in \u001b[0;36madd_line\u001b[1;34m(self, line)\u001b[0m\n\u001b[0;32m   1900\u001b[0m             \u001b[0mline\u001b[0m\u001b[1;33m.\u001b[0m\u001b[0mset_clip_path\u001b[0m\u001b[1;33m(\u001b[0m\u001b[0mself\u001b[0m\u001b[1;33m.\u001b[0m\u001b[0mpatch\u001b[0m\u001b[1;33m)\u001b[0m\u001b[1;33m\u001b[0m\u001b[1;33m\u001b[0m\u001b[0m\n\u001b[0;32m   1901\u001b[0m \u001b[1;33m\u001b[0m\u001b[0m\n\u001b[1;32m-> 1902\u001b[1;33m         \u001b[0mself\u001b[0m\u001b[1;33m.\u001b[0m\u001b[0m_update_line_limits\u001b[0m\u001b[1;33m(\u001b[0m\u001b[0mline\u001b[0m\u001b[1;33m)\u001b[0m\u001b[1;33m\u001b[0m\u001b[1;33m\u001b[0m\u001b[0m\n\u001b[0m\u001b[0;32m   1903\u001b[0m         \u001b[1;32mif\u001b[0m \u001b[1;32mnot\u001b[0m \u001b[0mline\u001b[0m\u001b[1;33m.\u001b[0m\u001b[0mget_label\u001b[0m\u001b[1;33m(\u001b[0m\u001b[1;33m)\u001b[0m\u001b[1;33m:\u001b[0m\u001b[1;33m\u001b[0m\u001b[1;33m\u001b[0m\u001b[0m\n\u001b[0;32m   1904\u001b[0m             \u001b[0mline\u001b[0m\u001b[1;33m.\u001b[0m\u001b[0mset_label\u001b[0m\u001b[1;33m(\u001b[0m\u001b[1;34m'_line%d'\u001b[0m \u001b[1;33m%\u001b[0m \u001b[0mlen\u001b[0m\u001b[1;33m(\u001b[0m\u001b[0mself\u001b[0m\u001b[1;33m.\u001b[0m\u001b[0mlines\u001b[0m\u001b[1;33m)\u001b[0m\u001b[1;33m)\u001b[0m\u001b[1;33m\u001b[0m\u001b[1;33m\u001b[0m\u001b[0m\n",
      "\u001b[1;32mC:\\ProgramData\\Anaconda3\\lib\\site-packages\\matplotlib\\axes\\_base.py\u001b[0m in \u001b[0;36m_update_line_limits\u001b[1;34m(self, line)\u001b[0m\n\u001b[0;32m   1922\u001b[0m         \u001b[0mFigures\u001b[0m \u001b[0mout\u001b[0m \u001b[0mthe\u001b[0m \u001b[0mdata\u001b[0m \u001b[0mlimit\u001b[0m \u001b[0mof\u001b[0m \u001b[0mthe\u001b[0m \u001b[0mgiven\u001b[0m \u001b[0mline\u001b[0m\u001b[1;33m,\u001b[0m \u001b[0mupdating\u001b[0m \u001b[0mself\u001b[0m\u001b[1;33m.\u001b[0m\u001b[0mdataLim\u001b[0m\u001b[1;33m.\u001b[0m\u001b[1;33m\u001b[0m\u001b[1;33m\u001b[0m\u001b[0m\n\u001b[0;32m   1923\u001b[0m         \"\"\"\n\u001b[1;32m-> 1924\u001b[1;33m         \u001b[0mpath\u001b[0m \u001b[1;33m=\u001b[0m \u001b[0mline\u001b[0m\u001b[1;33m.\u001b[0m\u001b[0mget_path\u001b[0m\u001b[1;33m(\u001b[0m\u001b[1;33m)\u001b[0m\u001b[1;33m\u001b[0m\u001b[1;33m\u001b[0m\u001b[0m\n\u001b[0m\u001b[0;32m   1925\u001b[0m         \u001b[1;32mif\u001b[0m \u001b[0mpath\u001b[0m\u001b[1;33m.\u001b[0m\u001b[0mvertices\u001b[0m\u001b[1;33m.\u001b[0m\u001b[0msize\u001b[0m \u001b[1;33m==\u001b[0m \u001b[1;36m0\u001b[0m\u001b[1;33m:\u001b[0m\u001b[1;33m\u001b[0m\u001b[1;33m\u001b[0m\u001b[0m\n\u001b[0;32m   1926\u001b[0m             \u001b[1;32mreturn\u001b[0m\u001b[1;33m\u001b[0m\u001b[1;33m\u001b[0m\u001b[0m\n",
      "\u001b[1;32mC:\\ProgramData\\Anaconda3\\lib\\site-packages\\matplotlib\\lines.py\u001b[0m in \u001b[0;36mget_path\u001b[1;34m(self)\u001b[0m\n\u001b[0;32m   1025\u001b[0m         \"\"\"\n\u001b[0;32m   1026\u001b[0m         \u001b[1;32mif\u001b[0m \u001b[0mself\u001b[0m\u001b[1;33m.\u001b[0m\u001b[0m_invalidy\u001b[0m \u001b[1;32mor\u001b[0m \u001b[0mself\u001b[0m\u001b[1;33m.\u001b[0m\u001b[0m_invalidx\u001b[0m\u001b[1;33m:\u001b[0m\u001b[1;33m\u001b[0m\u001b[1;33m\u001b[0m\u001b[0m\n\u001b[1;32m-> 1027\u001b[1;33m             \u001b[0mself\u001b[0m\u001b[1;33m.\u001b[0m\u001b[0mrecache\u001b[0m\u001b[1;33m(\u001b[0m\u001b[1;33m)\u001b[0m\u001b[1;33m\u001b[0m\u001b[1;33m\u001b[0m\u001b[0m\n\u001b[0m\u001b[0;32m   1028\u001b[0m         \u001b[1;32mreturn\u001b[0m \u001b[0mself\u001b[0m\u001b[1;33m.\u001b[0m\u001b[0m_path\u001b[0m\u001b[1;33m\u001b[0m\u001b[1;33m\u001b[0m\u001b[0m\n\u001b[0;32m   1029\u001b[0m \u001b[1;33m\u001b[0m\u001b[0m\n",
      "\u001b[1;32mC:\\ProgramData\\Anaconda3\\lib\\site-packages\\matplotlib\\lines.py\u001b[0m in \u001b[0;36mrecache\u001b[1;34m(self, always)\u001b[0m\n\u001b[0;32m    673\u001b[0m         \u001b[1;32mif\u001b[0m \u001b[0malways\u001b[0m \u001b[1;32mor\u001b[0m \u001b[0mself\u001b[0m\u001b[1;33m.\u001b[0m\u001b[0m_invalidy\u001b[0m\u001b[1;33m:\u001b[0m\u001b[1;33m\u001b[0m\u001b[1;33m\u001b[0m\u001b[0m\n\u001b[0;32m    674\u001b[0m             \u001b[0myconv\u001b[0m \u001b[1;33m=\u001b[0m \u001b[0mself\u001b[0m\u001b[1;33m.\u001b[0m\u001b[0mconvert_yunits\u001b[0m\u001b[1;33m(\u001b[0m\u001b[0mself\u001b[0m\u001b[1;33m.\u001b[0m\u001b[0m_yorig\u001b[0m\u001b[1;33m)\u001b[0m\u001b[1;33m\u001b[0m\u001b[1;33m\u001b[0m\u001b[0m\n\u001b[1;32m--> 675\u001b[1;33m             \u001b[0my\u001b[0m \u001b[1;33m=\u001b[0m \u001b[0m_to_unmasked_float_array\u001b[0m\u001b[1;33m(\u001b[0m\u001b[0myconv\u001b[0m\u001b[1;33m)\u001b[0m\u001b[1;33m.\u001b[0m\u001b[0mravel\u001b[0m\u001b[1;33m(\u001b[0m\u001b[1;33m)\u001b[0m\u001b[1;33m\u001b[0m\u001b[1;33m\u001b[0m\u001b[0m\n\u001b[0m\u001b[0;32m    676\u001b[0m         \u001b[1;32melse\u001b[0m\u001b[1;33m:\u001b[0m\u001b[1;33m\u001b[0m\u001b[1;33m\u001b[0m\u001b[0m\n\u001b[0;32m    677\u001b[0m             \u001b[0my\u001b[0m \u001b[1;33m=\u001b[0m \u001b[0mself\u001b[0m\u001b[1;33m.\u001b[0m\u001b[0m_y\u001b[0m\u001b[1;33m\u001b[0m\u001b[1;33m\u001b[0m\u001b[0m\n",
      "\u001b[1;32mC:\\ProgramData\\Anaconda3\\lib\\site-packages\\matplotlib\\cbook\\__init__.py\u001b[0m in \u001b[0;36m_to_unmasked_float_array\u001b[1;34m(x)\u001b[0m\n\u001b[0;32m   1388\u001b[0m         \u001b[1;32mreturn\u001b[0m \u001b[0mnp\u001b[0m\u001b[1;33m.\u001b[0m\u001b[0mma\u001b[0m\u001b[1;33m.\u001b[0m\u001b[0masarray\u001b[0m\u001b[1;33m(\u001b[0m\u001b[0mx\u001b[0m\u001b[1;33m,\u001b[0m \u001b[0mfloat\u001b[0m\u001b[1;33m)\u001b[0m\u001b[1;33m.\u001b[0m\u001b[0mfilled\u001b[0m\u001b[1;33m(\u001b[0m\u001b[0mnp\u001b[0m\u001b[1;33m.\u001b[0m\u001b[0mnan\u001b[0m\u001b[1;33m)\u001b[0m\u001b[1;33m\u001b[0m\u001b[1;33m\u001b[0m\u001b[0m\n\u001b[0;32m   1389\u001b[0m     \u001b[1;32melse\u001b[0m\u001b[1;33m:\u001b[0m\u001b[1;33m\u001b[0m\u001b[1;33m\u001b[0m\u001b[0m\n\u001b[1;32m-> 1390\u001b[1;33m         \u001b[1;32mreturn\u001b[0m \u001b[0mnp\u001b[0m\u001b[1;33m.\u001b[0m\u001b[0masarray\u001b[0m\u001b[1;33m(\u001b[0m\u001b[0mx\u001b[0m\u001b[1;33m,\u001b[0m \u001b[0mfloat\u001b[0m\u001b[1;33m)\u001b[0m\u001b[1;33m\u001b[0m\u001b[1;33m\u001b[0m\u001b[0m\n\u001b[0m\u001b[0;32m   1391\u001b[0m \u001b[1;33m\u001b[0m\u001b[0m\n\u001b[0;32m   1392\u001b[0m \u001b[1;33m\u001b[0m\u001b[0m\n",
      "\u001b[1;32mC:\\ProgramData\\Anaconda3\\lib\\site-packages\\numpy\\core\\_asarray.py\u001b[0m in \u001b[0;36masarray\u001b[1;34m(a, dtype, order)\u001b[0m\n\u001b[0;32m     83\u001b[0m \u001b[1;33m\u001b[0m\u001b[0m\n\u001b[0;32m     84\u001b[0m     \"\"\"\n\u001b[1;32m---> 85\u001b[1;33m     \u001b[1;32mreturn\u001b[0m \u001b[0marray\u001b[0m\u001b[1;33m(\u001b[0m\u001b[0ma\u001b[0m\u001b[1;33m,\u001b[0m \u001b[0mdtype\u001b[0m\u001b[1;33m,\u001b[0m \u001b[0mcopy\u001b[0m\u001b[1;33m=\u001b[0m\u001b[1;32mFalse\u001b[0m\u001b[1;33m,\u001b[0m \u001b[0morder\u001b[0m\u001b[1;33m=\u001b[0m\u001b[0morder\u001b[0m\u001b[1;33m)\u001b[0m\u001b[1;33m\u001b[0m\u001b[1;33m\u001b[0m\u001b[0m\n\u001b[0m\u001b[0;32m     86\u001b[0m \u001b[1;33m\u001b[0m\u001b[0m\n\u001b[0;32m     87\u001b[0m \u001b[1;33m\u001b[0m\u001b[0m\n",
      "\u001b[1;31mTypeError\u001b[0m: float() argument must be a string or a number, not 'dict'"
     ]
    },
    {
     "data": {
      "image/png": "[encoded data removed]",
      "text/plain": [
       "<Figure size 432x288 with 1 Axes>"
      ]
     },
     "metadata": {
      "needs_background": "light"
     },
     "output_type": "display_data"
    }
   ],
   "source": [
    "for i in track_states.keys():\n",
    "    plt.plot(track_states[i])"
   ]
  },
  {
   "cell_type": "code",
   "execution_count": null,
   "metadata": {
    "id": "u0wqECu_sznL"
   },
   "outputs": [],
   "source": []
  },
  {
   "cell_type": "markdown",
   "metadata": {
    "id": "zQHeB2iusznM"
   },
   "source": [
    "#### Epsilon-decay sample function"
   ]
  },
  {
   "cell_type": "markdown",
   "metadata": {
    "id": "QULk9X7bsznM"
   },
   "source": [
    "<div class=\"alert alert-block alert-info\">\n",
    "Try building a similar epsilon-decay function for your model.\n",
    "</div>"
   ]
  },
  {
   "cell_type": "code",
   "execution_count": null,
   "metadata": {
    "id": "sCJKKTmEsznM"
   },
   "outputs": [],
   "source": [
    "time = np.arange(0,10000)\n",
    "epsilon = []\n",
    "for i in range(0,10000):\n",
    "    epsilon.append(0 + (1 - 0) * np.exp(-0.0009*i))"
   ]
  },
  {
   "cell_type": "code",
   "execution_count": null,
   "metadata": {
    "id": "lRO8y7MLsznM"
   },
   "outputs": [],
   "source": [
    "plt.plot(time, epsilon)\n",
    "plt.show()"
   ]
  },
  {
   "cell_type": "code",
   "execution_count": null,
   "metadata": {
    "id": "n-jv-frLsznN"
   },
   "outputs": [],
   "source": []
  }
 ],
 "metadata": {
  "accelerator": "GPU",
  "colab": {
   "collapsed_sections": [],
   "name": "DQN_Agent_Arch2 - PC.ipynb",
   "provenance": []
  },
  "kernelspec": {
   "display_name": "Python 3",
   "language": "python",
   "name": "python3"
  },
  "language_info": {
   "codemirror_mode": {
    "name": "ipython",
    "version": 3
   },
   "file_extension": ".py",
   "mimetype": "text/x-python",
   "name": "python",
   "nbconvert_exporter": "python",
   "pygments_lexer": "ipython3",
   "version": "3.7.6"
  }
 },
 "nbformat": 4,
 "nbformat_minor": 1
}
